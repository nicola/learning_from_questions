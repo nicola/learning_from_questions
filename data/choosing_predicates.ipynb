{
 "cells": [
  {
   "cell_type": "code",
   "execution_count": 8,
   "metadata": {
    "collapsed": true
   },
   "outputs": [],
   "source": [
    "import numpy as np"
   ]
  },
  {
   "cell_type": "code",
   "execution_count": 9,
   "metadata": {
    "collapsed": false
   },
   "outputs": [],
   "source": [
    "############ Extract list of objects and actions and predicates\n",
    "\n",
    "import sys\n",
    "sys.path.insert(0, '../code/ir/')\n",
    "from vocab import *\n",
    "actions=A\n",
    "objects=O\n",
    "predicates=P"
   ]
  },
  {
   "cell_type": "code",
   "execution_count": 24,
   "metadata": {
    "collapsed": true
   },
   "outputs": [],
   "source": [
    "init=open(\"valid_predicates.dictionary\", \"r\")\n",
    "init_text=init.read()"
   ]
  },
  {
   "cell_type": "code",
   "execution_count": 28,
   "metadata": {
    "collapsed": false
   },
   "outputs": [
    {
     "data": {
      "text/plain": [
       "'ayblock\\n335|6|thing-available clayblock\\n'"
      ]
     },
     "execution_count": 28,
     "metadata": {},
     "output_type": "execute_result"
    }
   ],
   "source": [
    "init_text[-40:]"
   ]
  },
  {
   "cell_type": "code",
   "execution_count": 33,
   "metadata": {
    "collapsed": false
   },
   "outputs": [],
   "source": [
    "############ Create dictionary file with question-actions \n",
    "\n",
    "ob_file = open(\"valid_questions_actions.dictionary\", \"w\")\n",
    "\n",
    "ind=336\n",
    "action_text=init_text\n",
    "for ob in actions:\n",
    "    action_text=action_text+str(ind)+\"|\"+\"0|\"+\"question 0 \"+ob+\"\\n\"\n",
    "    ind+=1\n",
    "ob_file.write(action_text)\n",
    "\n",
    "ob_file.close()"
   ]
  },
  {
   "cell_type": "code",
   "execution_count": 34,
   "metadata": {
    "collapsed": true
   },
   "outputs": [],
   "source": [
    "ob_file = open(\"valid_questions_objects.dictionary\", \"w\")\n",
    "ind=336\n",
    "action_text=init_text\n",
    "for ob in objects:\n",
    "    action_text=action_text+str(ind)+\"|\"+\"0|\"+\"question 1 \"+ob+\"\\n\"\n",
    "    ind+=1\n",
    "ob_file.write(action_text)\n",
    "\n",
    "ob_file.close()"
   ]
  },
  {
   "cell_type": "code",
   "execution_count": 35,
   "metadata": {
    "collapsed": true
   },
   "outputs": [],
   "source": [
    "ob_file = open(\"valid_questions_objectsActions.dictionary\", \"w\")\n",
    "ind=336\n",
    "action_text=init_text\n",
    "for ob in actions:\n",
    "    action_text=action_text+str(ind)+\"|\"+\"0|\"+\"question 0 \"+ob+\"\\n\"\n",
    "    ind+=1\n",
    "for ob in objects:\n",
    "    action_text=action_text+str(ind)+\"|\"+\"0|\"+\"question 1 \"+ob+\"\\n\"\n",
    "    ind+=1\n",
    "ob_file.write(action_text)\n",
    "\n",
    "ob_file.close()"
   ]
  },
  {
   "cell_type": "code",
   "execution_count": 12,
   "metadata": {
    "collapsed": false
   },
   "outputs": [
    {
     "name": "stdout",
     "output_type": "stream",
     "text": [
      "Last index used =  461\n"
     ]
    }
   ],
   "source": [
    "############ Create dictionary file with question-objects \n",
    "\n",
    "ob_file = open(\"valid_questions_objects.dictionary\", \"w\")\n",
    "\n",
    "ind+=1\n",
    "for ob in objects:\n",
    "    ob_file.write(str(ind)+\"|\"+\"0|\"+\"question 1 \"+ob+\"\\n\")\n",
    "    ind+=1\n",
    "\n",
    "ob_file.close()\n",
    "print \"Last index used = \",ind"
   ]
  },
  {
   "cell_type": "code",
   "execution_count": 13,
   "metadata": {
    "collapsed": false
   },
   "outputs": [],
   "source": [
    "############ Create dictionary file with question-predicates \n",
    "\n",
    "ob_file = open(\"valid_questions_predicates.dictionary\", \"w\")\n",
    "\n",
    "ind+=1\n",
    "for ob in predicates:\n",
    "    ob_file.write(str(ind)+\"|\"+\"0|\"+\"question 2 \"+ob+\"\\n\")\n",
    "    ind+=1\n",
    "\n",
    "ob_file.close()"
   ]
  },
  {
   "cell_type": "markdown",
   "metadata": {
    "collapsed": true
   },
   "source": [
    "## Concatenating questions type"
   ]
  },
  {
   "cell_type": "code",
   "execution_count": 18,
   "metadata": {
    "collapsed": true
   },
   "outputs": [],
   "source": [
    "init=open(\"valid_predicates.dictionary\", \"r\")\n",
    "p = open(\"valid_questions_predicates.dictionary\", \"r\")\n",
    "ob = open(\"valid_questions_objects.dictionary\", \"r\")\n",
    "act = open(\"valid_questions_actions.dictionary\", \"r\")"
   ]
  },
  {
   "cell_type": "code",
   "execution_count": 19,
   "metadata": {
    "collapsed": false
   },
   "outputs": [],
   "source": [
    "init_ob = open(\"valid_predicates_questionsObject.dictionary\", \"w\")\n",
    "init_ob.write(init.read()+ob.read())"
   ]
  },
  {
   "cell_type": "code",
   "execution_count": 20,
   "metadata": {
    "collapsed": true
   },
   "outputs": [],
   "source": [
    "init_ob = open(\"valid_predicates_questionsObject.dictionary\", \"r\")\n"
   ]
  },
  {
   "cell_type": "code",
   "execution_count": 22,
   "metadata": {
    "collapsed": false
   },
   "outputs": [
    {
     "data": {
      "text/plain": [
       "'0|1|thing-available ironbar\\n1|2|thing-available ironbar\\n2|3|thing-available ironbar\\n3|4|thing-available ironbar\\n4|5|thing-available ironbar\\n5|6|thing-available ironbar\\n6|1|thing-available seeds\\n7|2|thing-available seeds\\n8|3|thing-available seeds\\n9|4|thing-available seeds\\n10|5|thing-available seeds\\n11|6|thing-available seeds\\n12|1|thing-available brown-mushroom\\n13|2|thing-available brown-mushroom\\n14|3|thing-available brown-mushroom\\n15|4|thing-available brown-mushroom\\n16|5|thing-available brown-mushroom\\n17|6|thing-available brown-mushroom\\n18|1|thing-available sand\\n19|2|thing-available sand\\n20|3|thing-available sand\\n21|4|thing-available sand\\n22|5|thing-available sand\\n23|6|thing-available sand\\n24|1|thing-available bone\\n25|2|thing-available bone\\n26|3|thing-available bone\\n27|4|thing-available bone\\n28|5|thing-available bone\\n29|6|thing-available bone\\n30|1|thing-available fish\\n31|2|thing-available fish\\n32|3|thing-available fish\\n33|4|thing-available fish\\n34|5|thing-available fish\\n35|6|thing-available fish\\n36|1|thing-available bucket\\n37|2|thing-available bucket\\n38|3|thing-available bucket\\n39|4|thing-available bucket\\n40|5|thing-available bucket\\n41|6|thing-available bucket\\n42|1|thing-available wood-pickaxe\\n43|2|thing-available wood-pickaxe\\n44|3|thing-available wood-pickaxe\\n45|4|thing-available wood-pickaxe\\n46|5|thing-available wood-pickaxe\\n47|6|thing-available wood-pickaxe\\n48|1|thing-available sugar\\n49|2|thing-available sugar\\n50|3|thing-available sugar\\n51|4|thing-available sugar\\n52|5|thing-available sugar\\n53|6|thing-available sugar\\n54|1|thing-available string\\n55|2|thing-available string\\n56|3|thing-available string\\n57|4|thing-available string\\n58|5|thing-available string\\n59|6|thing-available string\\n60|1|thing-available egg\\n61|2|thing-available egg\\n62|3|thing-available egg\\n63|4|thing-available egg\\n64|5|thing-available egg\\n65|6|thing-available egg\\n66|1|thing-available plank\\n67|2|thing-available plank\\n68|3|thing-available plank\\n69|4|thing-available plank\\n70|5|thing-available plank\\n71|6|thing-available plank\\n72|1|thing-available clay\\n73|2|thing-available clay\\n74|3|thing-available clay\\n75|4|thing-available clay\\n76|5|thing-available clay\\n77|6|thing-available clay\\n78|1|thing-available iron\\n79|2|thing-available iron\\n80|3|thing-available iron\\n81|4|thing-available iron\\n82|5|thing-available iron\\n83|6|thing-available iron\\n84|1|thing-available wood-axe\\n85|2|thing-available wood-axe\\n86|3|thing-available wood-axe\\n87|4|thing-available wood-axe\\n88|5|thing-available wood-axe\\n89|6|thing-available wood-axe\\n90|1|thing-available coal\\n91|2|thing-available coal\\n92|3|thing-available coal\\n93|4|thing-available coal\\n94|5|thing-available coal\\n95|6|thing-available coal\\n96|1|thing-available bed\\n97|2|thing-available bed\\n98|3|thing-available bed\\n99|4|thing-available bed\\n100|5|thing-available bed\\n101|6|thing-available bed\\n102|1|thing-available glasspane\\n103|2|thing-available glasspane\\n104|3|thing-available glasspane\\n105|4|thing-available glasspane\\n106|5|thing-available glasspane\\n107|6|thing-available glasspane\\n108|1|thing-available brick\\n109|2|thing-available brick\\n110|3|thing-available brick\\n111|4|thing-available brick\\n112|5|thing-available brick\\n113|6|thing-available brick\\n114|1|thing-available wood-stairs\\n115|2|thing-available wood-stairs\\n116|3|thing-available wood-stairs\\n117|4|thing-available wood-stairs\\n118|5|thing-available wood-stairs\\n119|6|thing-available wood-stairs\\n120|1|thing-available iron-door\\n121|2|thing-available iron-door\\n122|3|thing-available iron-door\\n123|4|thing-available iron-door\\n124|5|thing-available iron-door\\n125|6|thing-available iron-door\\n126|1|thing-available shears\\n127|2|thing-available shears\\n128|3|thing-available shears\\n129|4|thing-available shears\\n130|5|thing-available shears\\n131|6|thing-available shears\\n132|1|thing-available bread\\n133|2|thing-available bread\\n134|3|thing-available bread\\n135|4|thing-available bread\\n136|5|thing-available bread\\n137|6|thing-available bread\\n138|1|thing-available paper\\n139|2|thing-available paper\\n140|3|thing-available paper\\n141|4|thing-available paper\\n142|5|thing-available paper\\n143|6|thing-available paper\\n144|1|thing-available ladder\\n145|2|thing-available ladder\\n146|3|thing-available ladder\\n147|4|thing-available ladder\\n148|5|thing-available ladder\\n149|6|thing-available ladder\\n150|1|thing-available wood-shovel\\n151|2|thing-available wood-shovel\\n152|3|thing-available wood-shovel\\n153|4|thing-available wood-shovel\\n154|5|thing-available wood-shovel\\n155|6|thing-available wood-shovel\\n156|1|thing-available cookedfish\\n157|2|thing-available cookedfish\\n158|3|thing-available cookedfish\\n159|4|thing-available cookedfish\\n160|5|thing-available cookedfish\\n161|6|thing-available cookedfish\\n162|1|thing-available wood-door\\n163|2|thing-available wood-door\\n164|3|thing-available wood-door\\n165|4|thing-available wood-door\\n166|5|thing-available wood-door\\n167|6|thing-available wood-door\\n168|1|thing-available glass\\n169|2|thing-available glass\\n170|3|thing-available glass\\n171|4|thing-available glass\\n172|5|thing-available glass\\n173|6|thing-available glass\\n174|1|thing-available stick\\n175|2|thing-available stick\\n176|3|thing-available stick\\n177|4|thing-available stick\\n178|5|thing-available stick\\n179|6|thing-available stick\\n180|1|thing-available claybrick\\n181|2|thing-available claybrick\\n182|3|thing-available claybrick\\n183|4|thing-available claybrick\\n184|5|thing-available claybrick\\n185|6|thing-available claybrick\\n186|1|thing-available cut-sugarcane\\n187|2|thing-available cut-sugarcane\\n188|3|thing-available cut-sugarcane\\n189|4|thing-available cut-sugarcane\\n190|5|thing-available cut-sugarcane\\n191|6|thing-available cut-sugarcane\\n192|1|thing-available sandstone\\n193|2|thing-available sandstone\\n194|3|thing-available sandstone\\n195|4|thing-available sandstone\\n196|5|thing-available sandstone\\n197|6|thing-available sandstone\\n198|1|thing-available chest\\n199|2|thing-available chest\\n200|3|thing-available chest\\n201|4|thing-available chest\\n202|5|thing-available chest\\n203|6|thing-available chest\\n204|1|thing-available stonebrick-stairs\\n205|2|thing-available stonebrick-stairs\\n206|3|thing-available stonebrick-stairs\\n207|4|thing-available stonebrick-stairs\\n208|5|thing-available stonebrick-stairs\\n209|6|thing-available stonebrick-stairs\\n210|1|thing-available fishingrod\\n211|2|thing-available fishingrod\\n212|3|thing-available fishingrod\\n213|4|thing-available fishingrod\\n214|5|thing-available fishingrod\\n215|6|thing-available fishingrod\\n216|1|thing-available stonebrick\\n217|2|thing-available stonebrick\\n218|3|thing-available stonebrick\\n219|4|thing-available stonebrick\\n220|5|thing-available stonebrick\\n221|6|thing-available stonebrick\\n222|1|furnace-fuel\\n223|2|furnace-fuel\\n224|3|furnace-fuel\\n225|4|furnace-fuel\\n226|5|furnace-fuel\\n227|6|furnace-fuel\\n228|1|thing-available red-mushroom\\n229|2|thing-available red-mushroom\\n230|3|thing-available red-mushroom\\n231|4|thing-available red-mushroom\\n232|5|thing-available red-mushroom\\n233|6|thing-available red-mushroom\\n234|1|thing-available furnace\\n235|2|thing-available furnace\\n236|3|thing-available furnace\\n237|4|thing-available furnace\\n238|5|thing-available furnace\\n239|6|thing-available furnace\\n240|1|thing-available wheat\\n241|2|thing-available wheat\\n242|3|thing-available wheat\\n243|4|thing-available wheat\\n244|5|thing-available wheat\\n245|6|thing-available wheat\\n246|1|thing-available ironore\\n247|2|thing-available ironore\\n248|3|thing-available ironore\\n249|4|thing-available ironore\\n250|5|thing-available ironore\\n251|6|thing-available ironore\\n252|1|thing-available stone-stairs\\n253|2|thing-available stone-stairs\\n254|3|thing-available stone-stairs\\n255|4|thing-available stone-stairs\\n256|5|thing-available stone-stairs\\n257|6|thing-available stone-stairs\\n258|1|thing-available wool\\n259|2|thing-available wool\\n260|3|thing-available wool\\n261|4|thing-available wool\\n262|5|thing-available wool\\n263|6|thing-available wool\\n264|1|thing-available hand\\n265|2|thing-available hand\\n266|3|thing-available hand\\n267|4|thing-available hand\\n268|5|thing-available hand\\n269|6|thing-available hand\\n270|1|thing-available wood\\n271|2|thing-available wood\\n272|3|thing-available wood\\n273|4|thing-available wood\\n274|5|thing-available wood\\n275|6|thing-available wood\\n276|1|thing-available bowl\\n277|2|thing-available bowl\\n278|3|thing-available bowl\\n279|4|thing-available bowl\\n280|5|thing-available bowl\\n281|6|thing-available bowl\\n282|1|thing-available milk\\n283|2|thing-available milk\\n284|3|thing-available milk\\n285|4|thing-available milk\\n286|5|thing-available milk\\n287|6|thing-available milk\\n288|1|thing-available brick-stairs\\n289|2|thing-available brick-stairs\\n290|3|thing-available brick-stairs\\n291|4|thing-available brick-stairs\\n292|5|thing-available brick-stairs\\n293|6|thing-available brick-stairs\\n294|1|thing-available torch\\n295|2|thing-available torch\\n296|3|thing-available torch\\n297|4|thing-available torch\\n298|5|thing-available torch\\n299|6|thing-available torch\\n300|1|thing-available mushroomstew\\n301|2|thing-available mushroomstew\\n302|3|thing-available mushroomstew\\n303|4|thing-available mushroomstew\\n304|5|thing-available mushroomstew\\n305|6|thing-available mushroomstew\\n306|1|thing-available stone\\n307|2|thing-available stone\\n308|3|thing-available stone\\n309|4|thing-available stone\\n310|5|thing-available stone\\n311|6|thing-available stone\\n312|1|thing-available bonemeal\\n313|2|thing-available bonemeal\\n314|3|thing-available bonemeal\\n315|4|thing-available bonemeal\\n316|5|thing-available bonemeal\\n317|6|thing-available bonemeal\\n318|1|thing-available fence\\n319|2|thing-available fence\\n320|3|thing-available fence\\n321|4|thing-available fence\\n322|5|thing-available fence\\n323|6|thing-available fence\\n324|1|thing-available wood-hoe\\n325|2|thing-available wood-hoe\\n326|3|thing-available wood-hoe\\n327|4|thing-available wood-hoe\\n328|5|thing-available wood-hoe\\n329|6|thing-available wood-hoe\\n330|1|thing-available clayblock\\n331|2|thing-available clayblock\\n332|3|thing-available clayblock\\n333|4|thing-available clayblock\\n334|5|thing-available clayblock\\n335|6|thing-available clayblock\\n405|0|question 1 shears\\n406|0|question 1 fence\\n407|0|question 1 red-mushroom\\n408|0|question 1 fish\\n409|0|question 1 torch\\n410|0|question 1 glasspane\\n411|0|question 1 paper\\n412|0|question 1 wood-axe\\n413|0|question 1 bonemeal\\n414|0|question 1 milk\\n415|0|question 1 brown-mushroom\\n416|0|question 1 brick-stairs\\n417|0|question 1 bowl\\n418|0|question 1 stone-stairs\\n419|0|question 1 sugar\\n420|0|question 1 chest\\n421|0|question 1 wood\\n422|0|question 1 stonebrick\\n423|0|question 1 fornace-fuel\\n424|0|question 1 brick\\n425|0|question 1 furnace\\n426|0|question 1 wood-door\\n427|0|question 1 ironbar\\n428|0|question 1 clayblock\\n429|0|question 1 wheat\\n430|0|question 1 string\\n431|0|question 1 fishingrod\\n432|0|question 1 ladder\\n433|0|question 1 hand\\n434|0|question 1 wood-hoe\\n435|0|question 1 glass\\n436|0|question 1 cut-sugarcane\\n437|0|question 1 stick\\n438|0|question 1 wood-shovel\\n439|0|question 1 wood-stairs\\n440|0|question 1 cookedfish\\n441|0|question 1 plank\\n442|0|question 1 bread\\n443|0|question 1 stone\\n444|0|question 1 wool\\n445|0|question 1 iron-door\\n446|0|question 1 wood-pickaxe\\n447|0|question 1 ironore\\n448|0|question 1 seeds\\n449|0|question 1 claybrick\\n450|0|question 1 bucket\\n451|0|question 1 bed\\n452|0|question 1 coal\\n453|0|question 1 sand\\n454|0|question 1 mushroomstew\\n455|0|question 1 stonebrick-stairs\\n456|0|question 1 iron\\n457|0|question 1 clay\\n458|0|question 1 sandstone\\n459|0|question 1 egg\\n460|0|question 1 bone\\n'"
      ]
     },
     "execution_count": 22,
     "metadata": {},
     "output_type": "execute_result"
    }
   ],
   "source": [
    "init_ob.read()"
   ]
  },
  {
   "cell_type": "code",
   "execution_count": null,
   "metadata": {
    "collapsed": true
   },
   "outputs": [],
   "source": []
  }
 ],
 "metadata": {
  "kernelspec": {
   "display_name": "Python 2",
   "language": "python",
   "name": "python2"
  },
  "language_info": {
   "codemirror_mode": {
    "name": "ipython",
    "version": 2
   },
   "file_extension": ".py",
   "mimetype": "text/x-python",
   "name": "python",
   "nbconvert_exporter": "python",
   "pygments_lexer": "ipython2",
   "version": "2.7.10"
  }
 },
 "nbformat": 4,
 "nbformat_minor": 0
}
